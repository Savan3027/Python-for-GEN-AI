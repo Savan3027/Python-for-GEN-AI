{
 "cells": [
  {
   "cell_type": "markdown",
   "id": "02a048e3",
   "metadata": {},
   "source": [
    "Task1:Write a Python function that takes a string and returns the reverse of the string.\n",
    "\n"
   ]
  },
  {
   "cell_type": "code",
   "execution_count": null,
   "id": "54e74df7",
   "metadata": {},
   "outputs": [],
   "source": [
    "def reverse_string(word):\n",
    "    reversed_string = word[::-1]\n",
    "    return reversed_string\n",
    "print(reverse_string(\"Python is awesome\"))"
   ]
  },
  {
   "cell_type": "markdown",
   "id": "4fcaecde",
   "metadata": {},
   "source": [
    "Task2 :Write a Python function that counts the occurrences of a specific character in a string.\n",
    "\n"
   ]
  },
  {
   "cell_type": "code",
   "execution_count": null,
   "id": "82aa46ef",
   "metadata": {},
   "outputs": [],
   "source": [
    "def character(word,target):\n",
    "    count = 0\n",
    "    \n",
    "    for i in word:\n",
    "        if i == target:\n",
    "            count = count + 1 \n",
    "    return count\n",
    "print(character(\"Pythoon\",\"o\"))"
   ]
  },
  {
   "cell_type": "markdown",
   "id": "f6f5ff5d",
   "metadata": {},
   "source": [
    "Task3: Write a Python recursive function to calculate the factorial of a non-negative integer."
   ]
  },
  {
   "cell_type": "code",
   "execution_count": null,
   "id": "db28bef0",
   "metadata": {},
   "outputs": [],
   "source": [
    "def factorial(num):\n",
    "    \n",
    "    if num == 0 or num == 1:\n",
    "        return 1\n",
    "    else:\n",
    "        \n",
    "        return num * factorial(num-1) \n",
    "print(factorial(5))"
   ]
  },
  {
   "cell_type": "markdown",
   "id": "e41f3cb2",
   "metadata": {},
   "source": [
    "Task4: Write a Python function to calculate the area of a triangle given its base and height."
   ]
  },
  {
   "cell_type": "code",
   "execution_count": null,
   "id": "4237de5f",
   "metadata": {},
   "outputs": [],
   "source": [
    "def area_of_triangle(base,height):\n",
    "    formula = 0.5* base * height\n",
    "    \n",
    "    return formula\n",
    "print(area_of_triangle(5,8))"
   ]
  },
  {
   "cell_type": "markdown",
   "id": "7c1c016b",
   "metadata": {},
   "source": [
    "Task5:Write a Python function to find the second smallest number in a list of integers."
   ]
  },
  {
   "cell_type": "code",
   "execution_count": null,
   "id": "888930e6",
   "metadata": {},
   "outputs": [],
   "source": [
    "def second_smallest(d):\n",
    "    s = set(d)\n",
    "    sor = sorted(s)\n",
    "    e = sor[1]\n",
    "    \n",
    "    return e\n",
    "print(second_smallest([1,2,3,4,5,6,1,8,9,14,75,48]))"
   ]
  },
  {
   "cell_type": "code",
   "execution_count": null,
   "id": "701b0edf",
   "metadata": {},
   "outputs": [],
   "source": []
  },
  {
   "cell_type": "code",
   "execution_count": null,
   "id": "3e4b141a",
   "metadata": {},
   "outputs": [],
   "source": []
  },
  {
   "cell_type": "code",
   "execution_count": null,
   "id": "209acbfb",
   "metadata": {},
   "outputs": [],
   "source": []
  }
 ],
 "metadata": {
  "kernelspec": {
   "display_name": "Python 3 (ipykernel)",
   "language": "python",
   "name": "python3"
  },
  "language_info": {
   "codemirror_mode": {
    "name": "ipython",
    "version": 3
   },
   "file_extension": ".py",
   "mimetype": "text/x-python",
   "name": "python",
   "nbconvert_exporter": "python",
   "pygments_lexer": "ipython3",
   "version": "3.11.5"
  }
 },
 "nbformat": 4,
 "nbformat_minor": 5
}
