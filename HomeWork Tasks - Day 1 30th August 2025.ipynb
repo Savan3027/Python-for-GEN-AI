{
 "cells": [
  {
   "cell_type": "markdown",
   "id": "0ebe6cd2",
   "metadata": {},
   "source": [
    "Task1 :Write a Python function that accepts a list of numbers and returns the sum of all the even numbers in the  list.\n",
    "\n"
   ]
  },
  {
   "cell_type": "code",
   "execution_count": 27,
   "id": "fac2f7b9",
   "metadata": {},
   "outputs": [
    {
     "name": "stdout",
     "output_type": "stream",
     "text": [
      "12\n"
     ]
    }
   ],
   "source": [
    "def total(num):\n",
    "    \n",
    "    s = 0 \n",
    "    for i in num: \n",
    "        if i % 2 == 0:\n",
    "            s = s + i\n",
    "    \n",
    "    \n",
    "    return s\n",
    "print(total([1,2,3,4,5,6]))"
   ]
  },
  {
   "cell_type": "markdown",
   "id": "2d363bb8",
   "metadata": {},
   "source": [
    "Task2 :Write a Python function that calculates the area of a rectangle given its length and width.\n",
    "\n"
   ]
  },
  {
   "cell_type": "code",
   "execution_count": 28,
   "id": "666d02da",
   "metadata": {},
   "outputs": [
    {
     "name": "stdout",
     "output_type": "stream",
     "text": [
      "15\n"
     ]
    }
   ],
   "source": [
    "def area_of_rectangle(length, width):\n",
    "    rectangle = length*width\n",
    "    \n",
    "    return rectangle\n",
    "print(area_of_rectangle(5,3))"
   ]
  },
  {
   "cell_type": "markdown",
   "id": "94a15a18",
   "metadata": {},
   "source": [
    "Task3:Write a Python function to check if a given string is a palindrome (reads the same forwards and backward).\n",
    "\n"
   ]
  },
  {
   "cell_type": "code",
   "execution_count": 58,
   "id": "27463721",
   "metadata": {},
   "outputs": [],
   "source": [
    "def palindrome(word):\n",
    "    p = word[::-1]\n",
    "    \n",
    "    if  word == p:\n",
    "        print(\"palindrome\")\n",
    "    else:\n",
    "        print(\"Not palindrome\")\n",
    "        \n",
    "    return word == p\n",
    "    \n",
    "print(palindrome(\"hello\"))   "
   ]
  },
  {
   "cell_type": "markdown",
   "id": "6560da17",
   "metadata": {},
   "source": [
    "Task4 :Write a Python function to find the maximum and minimum numbers in a list of integers."
   ]
  },
  {
   "cell_type": "code",
   "execution_count": 73,
   "id": "18cdcd12",
   "metadata": {},
   "outputs": [
    {
     "name": "stdout",
     "output_type": "stream",
     "text": [
      "{'Max': 12, 'Min': 1}\n"
     ]
    }
   ],
   "source": [
    "def find_min_max(num):\n",
    "    max_num = max(num)\n",
    "    min_num = min(num)\n",
    "    \n",
    "    return {\"Max\": max_num, \"Min\": min_num}\n",
    "print(find_min_max([8, 3, 12, 5, 1]))"
   ]
  },
  {
   "cell_type": "markdown",
   "id": "35e10698",
   "metadata": {},
   "source": [
    "Task 5: Write a Python function to remove duplicates from a list.\n",
    "\n"
   ]
  },
  {
   "cell_type": "code",
   "execution_count": 79,
   "id": "8b8c74c3",
   "metadata": {},
   "outputs": [
    {
     "name": "stdout",
     "output_type": "stream",
     "text": [
      "[1, 2, 3, 4, 5]\n"
     ]
    }
   ],
   "source": [
    "def remove_duplicates(num):\n",
    "    remove = set(num)\n",
    "    order = sorted(remove)\n",
    "    \n",
    "    return order\n",
    "print(remove_duplicates([1, 2, 2, 3, 4, 4, 5]))"
   ]
  }
 ],
 "metadata": {
  "kernelspec": {
   "display_name": "Python 3 (ipykernel)",
   "language": "python",
   "name": "python3"
  },
  "language_info": {
   "codemirror_mode": {
    "name": "ipython",
    "version": 3
   },
   "file_extension": ".py",
   "mimetype": "text/x-python",
   "name": "python",
   "nbconvert_exporter": "python",
   "pygments_lexer": "ipython3",
   "version": "3.11.5"
  }
 },
 "nbformat": 4,
 "nbformat_minor": 5
}
